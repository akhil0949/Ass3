{
 "cells": [
  {
   "cell_type": "code",
   "execution_count": null,
   "id": "290169c5",
   "metadata": {},
   "outputs": [],
   "source": [
    "1. Why are functions advantageous to have in your programs?\n",
    "Ans)\n",
    "functions are advantageous in program because, if we create a function, no need to write the entire program every time. \n",
    "we can use the defined function anytime anywhere.\n"
   ]
  },
  {
   "cell_type": "code",
   "execution_count": null,
   "id": "9517f913",
   "metadata": {},
   "outputs": [],
   "source": [
    "2. When does the code in a function run: when its specified or when its called?\n",
    "Ans)\n",
    "When its called."
   ]
  },
  {
   "cell_type": "code",
   "execution_count": null,
   "id": "cc599291",
   "metadata": {},
   "outputs": [],
   "source": [
    "3. What statement creates a function?\n",
    "Ans)\n",
    "def statement create a function."
   ]
  },
  {
   "cell_type": "code",
   "execution_count": null,
   "id": "b2ea32e0",
   "metadata": {},
   "outputs": [],
   "source": [
    "4. What is the difference between a function and a function call?\n",
    "Ans)\n",
    "A function is a block of code.\n",
    "A function runs only when it is called.So it is know as function call."
   ]
  },
  {
   "cell_type": "code",
   "execution_count": null,
   "id": "58f13eb3",
   "metadata": {},
   "outputs": [],
   "source": [
    "5. How many global scopes are there in a Python program? How many local scopes?\n",
    "Ans)\n",
    "There are only one global scope in python program. And\n",
    "There are three local scopes are there in python they are\n",
    "- The local\n",
    "- The global\n",
    "- The built-in"
   ]
  },
  {
   "cell_type": "code",
   "execution_count": null,
   "id": "9d62d3bf",
   "metadata": {},
   "outputs": [],
   "source": [
    "6. What happens to variables in a local scope when the function call returns?\n",
    "Ans)\n",
    "the local variable will be exhausted."
   ]
  },
  {
   "cell_type": "code",
   "execution_count": null,
   "id": "7b26b227",
   "metadata": {},
   "outputs": [],
   "source": [
    "7. What is the concept of a return value? Is it possible to have a return value in an expression?\n",
    "Ans)\n",
    "return statement returns the primitive datatype when it is defined under a function, whereas the print returns nontype\n",
    "Yes, it is possible to have a return value in an expression, when we define a fun.\n",
    "We only use return value, while we create a function."
   ]
  },
  {
   "cell_type": "code",
   "execution_count": null,
   "id": "7efdde8b",
   "metadata": {},
   "outputs": [],
   "source": [
    "8. If a function does not have a return statement, what is the return value of a call to that function?\n",
    "Ans)\n",
    "'Nonetype'"
   ]
  },
  {
   "cell_type": "code",
   "execution_count": null,
   "id": "bf7f5128",
   "metadata": {},
   "outputs": [],
   "source": [
    "9. How do you make a function variable refer to the global variable?\n",
    "Ans)\n",
    "use the global keyword to declare which variables are global."
   ]
  },
  {
   "cell_type": "code",
   "execution_count": null,
   "id": "060ef843",
   "metadata": {},
   "outputs": [],
   "source": [
    "10. What is the data type of None?\n",
    "Ans)\n",
    "When we use the print statement while creating a function, we get datatype as 'Nonetype'."
   ]
  },
  {
   "cell_type": "code",
   "execution_count": null,
   "id": "5b76b390",
   "metadata": {},
   "outputs": [],
   "source": [
    "11. What does the sentence import areallyourpetsnamederic do?\n",
    "Ans)\n",
    "import statement imports the areallyourpetsnamederic module (not a real Python module)."
   ]
  },
  {
   "cell_type": "code",
   "execution_count": null,
   "id": "8a620830",
   "metadata": {},
   "outputs": [],
   "source": [
    "12. If you had a bacon() feature in a spam module, what would you call it after importing spam?\n",
    "Ans)\n",
    "bacon(spam)"
   ]
  },
  {
   "cell_type": "code",
   "execution_count": null,
   "id": "a1f8f36c",
   "metadata": {},
   "outputs": [],
   "source": [
    "13. What can you do to save a programme from crashing if it encounters an error?\n",
    "Ans)\n",
    "We use error handling to save a programme from crashing if it encounters an error."
   ]
  },
  {
   "cell_type": "code",
   "execution_count": null,
   "id": "72843fc3",
   "metadata": {},
   "outputs": [],
   "source": [
    "14. What is the purpose of the try clause? What is the purpose of the except clause?\n",
    "Ans) \n",
    "try clause allows us to test the block of code for errors.\n",
    "except clause allows us to handle the errors.\n",
    "\n"
   ]
  }
 ],
 "metadata": {
  "kernelspec": {
   "display_name": "Python 3",
   "language": "python",
   "name": "python3"
  },
  "language_info": {
   "codemirror_mode": {
    "name": "ipython",
    "version": 3
   },
   "file_extension": ".py",
   "mimetype": "text/x-python",
   "name": "python",
   "nbconvert_exporter": "python",
   "pygments_lexer": "ipython3",
   "version": "3.6.13"
  }
 },
 "nbformat": 4,
 "nbformat_minor": 5
}
